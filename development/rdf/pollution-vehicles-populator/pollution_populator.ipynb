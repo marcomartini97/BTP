{
  "cells": [
    {
      "cell_type": "code",
      "execution_count": 8,
      "metadata": {
        "colab": {
          "base_uri": "https://localhost:8080/"
        },
        "id": "aI9cUSUTuk6-",
        "outputId": "1050b026-0227-4f30-c5fe-e343df8f4641"
      },
      "outputs": [
        {
          "output_type": "stream",
          "name": "stdout",
          "text": [
            "Requirement already satisfied: rdflib in /usr/local/lib/python3.10/dist-packages (7.1.1)\n",
            "Requirement already satisfied: isodate<1.0.0,>=0.7.2 in /usr/local/lib/python3.10/dist-packages (from rdflib) (0.7.2)\n",
            "Requirement already satisfied: pyparsing<4,>=2.1.0 in /usr/local/lib/python3.10/dist-packages (from rdflib) (3.2.0)\n"
          ]
        }
      ],
      "source": [
        "pip install rdflib"
      ]
    },
    {
      "cell_type": "code",
      "execution_count": 9,
      "metadata": {
        "colab": {
          "base_uri": "https://localhost:8080/"
        },
        "id": "BS8mKYNLvEeo",
        "outputId": "6dd7fc3a-3a52-46a7-f262-7e3d5138f462"
      },
      "outputs": [
        {
          "output_type": "stream",
          "name": "stdout",
          "text": [
            "Requirement already satisfied: datetime in /usr/local/lib/python3.10/dist-packages (5.5)\n",
            "Requirement already satisfied: zope.interface in /usr/local/lib/python3.10/dist-packages (from datetime) (7.2)\n",
            "Requirement already satisfied: pytz in /usr/local/lib/python3.10/dist-packages (from datetime) (2024.2)\n",
            "Requirement already satisfied: setuptools in /usr/local/lib/python3.10/dist-packages (from zope.interface->datetime) (75.1.0)\n"
          ]
        }
      ],
      "source": [
        "pip install datetime"
      ]
    },
    {
      "cell_type": "code",
      "execution_count": 10,
      "metadata": {
        "colab": {
          "base_uri": "https://localhost:8080/"
        },
        "id": "g6wKYePVvGrz",
        "outputId": "c082a9e7-ffcd-4bcb-d902-281c65c9579d"
      },
      "outputs": [
        {
          "output_type": "stream",
          "name": "stdout",
          "text": [
            "Requirement already satisfied: tqdm in /usr/local/lib/python3.10/dist-packages (4.66.6)\n"
          ]
        }
      ],
      "source": [
        "pip install tqdm"
      ]
    },
    {
      "cell_type": "code",
      "execution_count": 11,
      "metadata": {
        "colab": {
          "base_uri": "https://localhost:8080/"
        },
        "id": "Cnbu2RlQvI3Z",
        "outputId": "3c5d7858-f86a-4d3a-bcf6-30900d347600"
      },
      "outputs": [
        {
          "output_type": "stream",
          "name": "stdout",
          "text": [
            "Requirement already satisfied: psutil in /usr/local/lib/python3.10/dist-packages (5.9.5)\n"
          ]
        }
      ],
      "source": [
        "pip install psutil"
      ]
    },
    {
      "cell_type": "code",
      "execution_count": 12,
      "metadata": {
        "id": "UdAPwvm7vKfU"
      },
      "outputs": [],
      "source": [
        "import pandas as pd\n",
        "import os\n",
        "from tqdm import tqdm\n",
        "import datetime\n",
        "import re\n",
        "\n",
        "from rdflib import Graph, Literal, RDF, RDFS, URIRef, Namespace\n",
        "from rdflib.plugins.sparql import prepareQuery\n",
        "from rdflib.namespace import XSD"
      ]
    },
    {
      "cell_type": "code",
      "execution_count": 13,
      "metadata": {
        "id": "popuhA9jvOPN"
      },
      "outputs": [],
      "source": [
        "# To measure the usage of RAM\n",
        "import psutil"
      ]
    },
    {
      "cell_type": "code",
      "execution_count": 14,
      "metadata": {
        "colab": {
          "base_uri": "https://localhost:8080/"
        },
        "id": "qohNwW5svO0d",
        "outputId": "9f507e3d-6b33-49bb-eecb-41d05c5e4dc5"
      },
      "outputs": [
        {
          "output_type": "stream",
          "name": "stdout",
          "text": [
            "Mounted at /content/drive\n"
          ]
        }
      ],
      "source": [
        "# Use your personal account!\n",
        "from google.colab import drive\n",
        "drive.mount('/content/drive')"
      ]
    },
    {
      "cell_type": "code",
      "execution_count": 15,
      "metadata": {
        "id": "JsLnxkCOxZwY"
      },
      "outputs": [],
      "source": [
        "global pbar\n",
        "\n",
        "chunksize = 10000\n",
        "\n",
        "BTP = Namespace('http://www.dei.unipd.it/~gdb/ontology/btp/')\n",
        "\n",
        "global viaChiarini_gp, giardiniMargherita_gp, portaSanFelice_gp\n",
        "viaChiarini_gp = [44.4997732567231, 11.2873095406444]\n",
        "giardiniMargherita_gp = [44.4830615285162, 11.3528830371546] # via Medaro Bottonelli\n",
        "portaSanFelice_gp = [44.4991470592725, 11.3270506316853]\n",
        "\n",
        "global coil_dict\n",
        "coil_dict = dict()"
      ]
    },
    {
      "cell_type": "code",
      "execution_count": 16,
      "metadata": {
        "id": "-nvtR9CTvQ3q"
      },
      "outputs": [],
      "source": [
        "# Function to populate the coils dataset\n",
        "def coils_process_chunk(chunk : set) -> set:\n",
        "    # Graph\n",
        "    chunk_set = set()\n",
        "\n",
        "    # OWL - Object Properties\n",
        "    chunk_set.add(':isNearTo a owl:ObjectProperty .')\n",
        "    chunk_set.add(':isObserved a owl:ObjectProperty .')\n",
        "    chunk_set.add(':hasObserve a owl:ObjectProperty .')\n",
        "    chunk_set.add(':hasLevel a owl:ObjectProperty .')\n",
        "    chunk_set.add(':hasType a owl:ObjectProperty .')\n",
        "    chunk_set.add(':isOn a owl:ObjectProperty .')\n",
        "    chunk_set.add(':isPlaced a owl:ObjectProperty .')\n",
        "\n",
        "    # OWL - DataType Properties\n",
        "    chunk_set.add(':hasID a owl:DatatypeProperty .')\n",
        "\n",
        "    for index, row in chunk.iterrows():\n",
        "\n",
        "        # I check if the record is valid or not -> must have all the field not NaN\n",
        "        if row['Livello'] == '' or row['tipologia'] == '' or row['codice arco'] == '':\n",
        "            # I skip the record -> next record\n",
        "            continue\n",
        "\n",
        "        # else: is valid -> continue\n",
        "\n",
        "        ## COIL:\n",
        "        # -uri: coil_ + id number.\n",
        "        # -attributi: hasID\n",
        "        # -object properties: hasLevel, hasType, isOn, and isPlaced.\n",
        "\n",
        "        Coil = ':coil_'+str(row['ID_univoco_stazione_spira'])\n",
        "\n",
        "        # PollutionCoils and SimpleCoils are subclasses of Coil\n",
        "        chunk_set.add(':PollutionCoil rdfs:subClassOf :Coil .')\n",
        "        chunk_set.add(':SimpleCoil rdfs:subClassOf :Coil .')\n",
        "\n",
        "        # Cast to float\n",
        "        latitudine = row['latitudine']\n",
        "        longitudine = row['longitudine']\n",
        "\n",
        "        if(type(latitudine) == str):\n",
        "            latitudine = latitudine.replace(',', '')\n",
        "            # From 113473933293812,00 to 11.3473933293812\n",
        "            latitudine = latitudine[:2] + '.' + latitudine[2:]\n",
        "            # Cast to float\n",
        "            latitudine = float(latitudine)\n",
        "        if(type(longitudine) == str):\n",
        "            longitudine = longitudine.replace(',', '')\n",
        "            # From 44500438455000,00 to 44.500438455000\n",
        "            longitudine = longitudine[:2] + '.' + longitudine[2:]\n",
        "            longitudine = float(longitudine)\n",
        "\n",
        "        # Pollution coils -> must be around 300 m\n",
        "        if ((latitudine <= viaChiarini_gp[0] + 0.0027) and (latitudine >= viaChiarini_gp[0] + 0.0027)) and ((longitudine <= viaChiarini_gp[1] + 0.0013) and (longitudine >= viaChiarini_gp[1] - 0.0013)):\n",
        "            chunk_set.add(Coil + ' a :PollutionCoil .')\n",
        "            PollutionStation = ':viaChiariniControlUnit'\n",
        "            chunk_set.add(PollutionStation + ' a :PollutionStation .')\n",
        "            chunk_set.add(PollutionStation + ' :isNearTo ' + Coil +' .')\n",
        "        elif ((latitudine <= giardiniMargherita_gp[0] + 0.0027) and (latitudine >= giardiniMargherita_gp[0] + 0.0027)) and ((longitudine <= giardiniMargherita_gp[1] + 0.0013) and (longitudine >= giardiniMargherita_gp[1] - 0.0013)):\n",
        "            chunk_set.add(Coil + ' a :PollutionCoil .')\n",
        "            PollutionStation = ':giardiniMargheritaControlUnit'\n",
        "            chunk_set.add(PollutionStation + ' a :PollutionStation .')\n",
        "            chunk_set.add(PollutionStation + ' :isNearTo ' + Coil +' .')\n",
        "        elif ((latitudine <= portaSanFelice_gp[0] + 0.0027) and (latitudine >= portaSanFelice_gp[0] + 0.0027)) and ((longitudine <= portaSanFelice_gp[1] + 0.0013) and (longitudine >= portaSanFelice_gp[1] - 0.0013)):\n",
        "            chunk_set.add(Coil + ' a :PollutionCoil .')\n",
        "            PollutionStation = ':portaSanFeliceControlUnit'\n",
        "            chunk_set.add(PollutionStation + ' a :PollutionStation .')\n",
        "            chunk_set.add(PollutionStation + ' :isNearTo ' + Coil +' .')\n",
        "        else:\n",
        "            chunk_set.add(Coil + ' a :SimpleCoil .')\n",
        "\n",
        "\n",
        "        for i in range(2, 26):\n",
        "            date_obj = datetime.datetime.strptime(str(row['data']), '%Y-%m-%d')\n",
        "            VehicleDetection = ':veDet_'+str(row['ID_univoco_stazione_spira'])+'_'+(date_obj.strftime('%Y-%m-%d')).replace('-', '_')+'_'+str(i-2).zfill(2)+'_'+str(i-1).zfill(2)\n",
        "            chunk_set.add(VehicleDetection + ' a :VehicleDetection .')\n",
        "            chunk_set.add(VehicleDetection + ' :isObserved ' + Coil + ' .')\n",
        "            chunk_set.add(Coil + ' :hasObserve ' + VehicleDetection + ' .')\n",
        "\n",
        "        Level = ':level'+str(int(row['Livello']))\n",
        "        chunk_set.add(Level + ' a :Level .')\n",
        "        chunk_set.add(Coil + ' :hasLevel ' + Level + ' .')\n",
        "\n",
        "        Type = URIRef(BTP['type_'+str(row['tipologia'])])\n",
        "        Type = ':'+str(row['tipologia'])\n",
        "        chunk_set.add(Type + ' a :Type .')\n",
        "        chunk_set.add(Coil + ' :hasType ' + Type + ' .')\n",
        "\n",
        "        chunk_set.add(Coil + ' :hasID \"' + str(row['codice spira']) + '\"^^xsd:string .')\n",
        "\n",
        "        RoadArch = ':roadarch_'+str(row['codice arco'])\n",
        "        chunk_set.add(RoadArch + ' a :RoadArch .')\n",
        "        chunk_set.add(Coil + ' :isOn ' + RoadArch + ' .')\n",
        "        chunk_set.add(RoadArch + ' :isPlaced ' + Coil + ' .')\n",
        "\n",
        "        # Update the dictionary\n",
        "        coil_dict[str(row['codice spira'])] = str(row['ID_univoco_stazione_spira'])\n",
        "\n",
        "    pbar.update(len(chunk))\n",
        "\n",
        "    return chunk_set"
      ]
    },
    {
      "cell_type": "code",
      "execution_count": 17,
      "metadata": {
        "id": "b4X79ZOAMSku"
      },
      "outputs": [],
      "source": [
        "# Function that populates the vehicle count dataset\n",
        "def vehicle_count_process_chunk(chunk: set) -> set:\n",
        "\n",
        "    vc_set = set()\n",
        "\n",
        "    # OWL - Object Properties\n",
        "    vc_set.add(':isObservedOnPeriod a owl:ObjectProperty .')\n",
        "    vc_set.add(':hasObservedOnPeriod a owl:ObjectProperty .')\n",
        "    vc_set.add(':onDay a owl:ObjectProperty .')\n",
        "\n",
        "    # OWL - DataType Properties\n",
        "    vc_set.add(':hasCount a owl:DatatypeProperty .')\n",
        "    vc_set.add(':startTime a owl:DatatypeProperty .')\n",
        "    vc_set.add(':endTime a owl:DatatypeProperty .')\n",
        "\n",
        "    for index, row in chunk.iterrows():\n",
        "\n",
        "        # I check if the record is valid or not -> must have all the field not NaN\n",
        "        if row['Livello'] == '' or row['tipologia'] == '':\n",
        "            # I skip the record -> next record\n",
        "            continue\n",
        "        # else: is valid -> continue\n",
        "\n",
        "        for i in range(2, 26):\n",
        "\n",
        "            ## VEHICLEDETECTION:\n",
        "            # -uri: vehicleDetection_ + id number + _ + date.\n",
        "            # -attributi: hasCount.\n",
        "            # -object properties: isObserved, hasObserve, isObservedOnPeriod, and hasObservedOnPeriod.\n",
        "\n",
        "            date_obj = datetime.datetime.strptime(str(row['data']), '%Y-%m-%d')\n",
        "            VehicleDetection = ':veDet_'+str(row['ID_univoco_stazione_spira'])+'_'+(date_obj.strftime('%Y-%m-%d')).replace('-', '_')+'_'+str(i-2).zfill(2)+'_'+str(i-1).zfill(2)\n",
        "            vc_set.add(VehicleDetection + ' a :VehicleDetection .')\n",
        "\n",
        "            vc_set.add(VehicleDetection + ' :hasCount \"' + str(row.iloc[i]) + '\"^^xsd:integer .')\n",
        "\n",
        "            # # PERIOD:\n",
        "            # -uri: period_ + date + _ + hour1 + _ + hour2.\n",
        "            # -attributi: startTime and endTime.\n",
        "            # -object properties: onDay.\n",
        "\n",
        "            date_obj = datetime.datetime.strptime(str(row['data']), '%Y-%m-%d')\n",
        "            Period = ':period_'+(date_obj.strftime('%Y-%m-%d')).replace('-', '_')+'_'+str(i-2).zfill(2)+'_'+str(i-1).zfill(2)\n",
        "            vc_set.add(Period + ' a :Period .')\n",
        "\n",
        "            vc_set.add(Period + ' :isObservedOnPeriod ' + VehicleDetection + ' .')\n",
        "            vc_set.add(VehicleDetection + ' :hasObservedOnPeriod ' + Period + ' .')\n",
        "\n",
        "            startTime = str(i-2).zfill(2)+':00:00'\n",
        "            date_obj = datetime.datetime.strptime(str(row['data']), '%Y-%m-%d')\n",
        "\n",
        "            vc_set.add(Period + ' :startTime \"' + str(date_obj.strftime('%Y-%m-%d')+'T'+startTime) + '\"^^xsd:dateTime .')\n",
        "\n",
        "            endTime = str(i-1).zfill(2)+':00:00'\n",
        "\n",
        "            # If the endTime is 24 -> date+1 and endTime = 00\n",
        "            if(endTime == '24:00:00'):\n",
        "                endTime = '00:00:00'\n",
        "                # I add one day\n",
        "                date_obj = date_obj + datetime.timedelta(days=1)\n",
        "\n",
        "            vc_set.add(Period + ' :endTime \"' + str(date_obj.strftime('%Y-%m-%d')+'T'+endTime) + '\"^^xsd:dateTime .')\n",
        "\n",
        "            ## Convert day from italian to english ex: lunedì -> monday\n",
        "            day_value = ''\n",
        "            if 'Giorno della settimana' in row:\n",
        "                day_value = str(row['Giorno della settimana']).lower()\n",
        "            elif 'giorno della settimana' in row:\n",
        "                day_value = str(row['giorno della settimana']).lower()\n",
        "\n",
        "            match day_value:\n",
        "                case 'lunedì':\n",
        "                    DayWeek = ':monday'\n",
        "                    vc_set.add(DayWeek + ' a :DayWeek .')\n",
        "                    vc_set.add(Period + ' :onDay ' + DayWeek + ' .')\n",
        "                case 'martedì':\n",
        "                    DayWeek = ':tuesday'\n",
        "                    vc_set.add(DayWeek + ' a :DayWeek .')\n",
        "                    vc_set.add(Period + ' :onDay ' + DayWeek + ' .')\n",
        "                case 'mercoledì':\n",
        "                    DayWeek = ':wednesday'\n",
        "                    vc_set.add(DayWeek + ' a :DayWeek .')\n",
        "                    vc_set.add(Period + ' :onDay ' + DayWeek + ' .')\n",
        "                case 'giovedì':\n",
        "                    DayWeek = ':thursday'\n",
        "                    vc_set.add(DayWeek + ' a :DayWeek .')\n",
        "                    vc_set.add(Period + ' :onDay ' + DayWeek + ' .')\n",
        "                case 'venerdì':\n",
        "                    DayWeek = ':friday'\n",
        "                    vc_set.add(DayWeek + ' a :DayWeek .')\n",
        "                    vc_set.add(Period + ' :onDay ' + DayWeek + ' .')\n",
        "                case 'sabato':\n",
        "                    DayWeek = ':saturday'\n",
        "                    vc_set.add(DayWeek + ' a :DayWeek .')\n",
        "                    vc_set.add(Period + ' :onDay ' + DayWeek + ' .')\n",
        "                case 'domenica':\n",
        "                    DayWeek = ':sunday'\n",
        "                    vc_set.add(DayWeek + ' a :DayWeek .')\n",
        "                    vc_set.add(Period + ' :onDay ' + DayWeek + ' .')\n",
        "                case _:\n",
        "                    # No day provided\n",
        "                    pass\n",
        "\n",
        "    pbar.update(len(chunk))\n",
        "\n",
        "    return vc_set"
      ]
    },
    {
      "cell_type": "code",
      "execution_count": 18,
      "metadata": {
        "id": "qNfIBNPI_apI"
      },
      "outputs": [],
      "source": [
        "# Function that populates the vehicle accuracy dataset\n",
        "def vehicle_accuracy_process_chunk(chunk : set) -> set:\n",
        "\n",
        "    # Graphs\n",
        "    acc_set = set()\n",
        "\n",
        "    # OWL - DataType Properties\n",
        "    acc_set.add(':hasAccuracy a owl:DatatypeProperty .')\n",
        "\n",
        "    for index, row in chunk.iterrows():\n",
        "\n",
        "        for i in range(2, 26):\n",
        "\n",
        "            ## VEHICLEDETECTION:\n",
        "            # -uri: vehicleDetection_ + id number + _ + date.\n",
        "            # -attributi: hasAccuracy, and hasCount.\n",
        "\n",
        "            # Query to get the coil's code associated to an ID\n",
        "            coil = get_coil_by_id(str(row['codice spira']))\n",
        "            if coil == None:\n",
        "                # I skip the record -> next record\n",
        "                continue\n",
        "\n",
        "            date_obj = datetime.datetime.strptime(str(row['data']), '%Y-%m-%d')\n",
        "\n",
        "            VehicleDetection = ':veDet_' + str(coil) + '_' + (str(date_obj.strftime('%Y-%m-%d'))).replace('-', '_') + '_'+str(i-2).zfill(2) + '_' + str(i-1).zfill(2)\n",
        "            acc_set.add(VehicleDetection + ' a :VehicleDetection .')\n",
        "            percentage = row.iloc[i].replace('%', '')\n",
        "            acc_set.add(VehicleDetection + ' :hasAccuracy \"' + str(float(percentage)) + '\"^^xsd:float .')\n",
        "\n",
        "    pbar.update(len(chunk))\n",
        "\n",
        "    return acc_set"
      ]
    },
    {
      "cell_type": "code",
      "execution_count": 19,
      "metadata": {
        "id": "BG0Zbtji_Wan"
      },
      "outputs": [],
      "source": [
        "# Function that populates the pollution data\n",
        "def pollution_process_chunk(chunk: set) -> set:\n",
        "\n",
        "    pol_set = set()\n",
        "\n",
        "    # OWL - Object Properties\n",
        "    pol_set.add(':hasDetect a owl:ObjectProperty .')\n",
        "    pol_set.add(':isDetected a owl:ObjectProperty .')\n",
        "    pol_set.add(':isRegistered a owl:ObjectProperty .')\n",
        "    pol_set.add(':hasRegister a owl:ObjectProperty .')\n",
        "    pol_set.add(':isDetectedOnPeriod a owl:ObjectProperty .')\n",
        "    pol_set.add(':hasDetectedOnPeriod a owl:ObjectProperty .')\n",
        "\n",
        "    # OWL - DateType Properties\n",
        "    pol_set.add(':startTime a owl:DatatypeProperty .')\n",
        "    pol_set.add(':endTime a owl:DatatypeProperty .')\n",
        "    pol_set.add(':inQuantity a owl:DatatypeProperty .')\n",
        "    pol_set.add(':hasChemicalName a owl:DatatypeProperty .')\n",
        "\n",
        "    for index, row in chunk.iterrows():\n",
        "\n",
        "        ## POLLUTIONSTATION:\n",
        "        # -uri: centralUnit + pollution name.\n",
        "        # -object properties: hasRegister, and isRegistered.\n",
        "\n",
        "        PollutionStation = ':' + ((str(row['COD_STAZ']).split(\" \"))[0]).lower() + ''.join(s.capitalize() for s in (str(row['COD_STAZ']).split(\" \"))[1:]) + 'ControlUnit'\n",
        "        pol_set.add(PollutionStation + ' a :PollutionStation .')\n",
        "\n",
        "        # PERIOD:\n",
        "        # -uri: period_ + date + _ + hour1 + _ + hour2.\n",
        "        # -attributi: startTime and endTime.\n",
        "        # -object properties: onDay.\n",
        "\n",
        "        # date format: yyyy-mm-ddThh:mm:ss+hh:mm\n",
        "        # keep only the data: 'Thh:mm:ss+hh:mm' -> yyyy-mm-dd\n",
        "        date_obj = datetime.datetime.strptime((str(row['DATA_INIZIO']).split('T'))[0], '%Y-%m-%d')\n",
        "        # keep only the hour: 'Thh:mm:ss+hh:mm' -> hh:mm:ss\n",
        "        startTime = str((((str(row['DATA_INIZIO']).split('T'))[1].split('+')[0]).split(':'))[0])\n",
        "        endTime = str((((str(row['DATA_FINE']).split('T'))[1].split('+')[0]).split(':'))[0])\n",
        "\n",
        "        Period = ':period_'+(str(date_obj.strftime('%Y-%m-%d'))).replace('-', '_')+'_'+startTime+'_'+endTime\n",
        "        pol_set.add(Period + ' a :Period .')\n",
        "\n",
        "        chemical_element = ((row['AGENTE'].split('(')[0]).strip()).upper()\n",
        "        date_obj = datetime.datetime.strptime((str(row['DATA_INIZIO']).split('T'))[0], '%Y-%m-%d')\n",
        "\n",
        "        ## CHEMICALDETECTION:\n",
        "        # -uri: chemicalDetection_ + pollution_station_name + _ + date + _ + element.\n",
        "        # -attributi: inQuantity (conversion all in ug/m), and hasChemicalName.\n",
        "        # -object properties: isDetectedOnPeriod, hasDetectedOnPeriod, hasDetect, and isDetected.\n",
        "\n",
        "        ChemicalDetection = ':chDet_'+(str(row['COD_STAZ']).lower()).replace(' ', '')+'_'+(str(date_obj.strftime('%Y-%m-%d'))).replace('-', '_')+'_'+startTime+'_'+endTime+'_'+chemical_element\n",
        "        pol_set.add(ChemicalDetection + ' a :ChemicalDetection .')\n",
        "        pol_set.add(ChemicalDetection + ' :isRegistered ' + PollutionStation + ' .')\n",
        "        pol_set.add(PollutionStation + ' :hasRegister ' + ChemicalDetection + ' .')\n",
        "\n",
        "        pol_set.add(Period + ' :isDetectedOnPeriod ' + ChemicalDetection + ' .')\n",
        "        pol_set.add(ChemicalDetection + ' :hasDetectedOnPeriod ' + Period + ' .')\n",
        "\n",
        "        # Cast from mg/m^3 to ug/m^3\n",
        "        if(row['UM'] == 'mg/m3'):\n",
        "            pol_set.add(ChemicalDetection + ' :inQuantity \"' + str(float(row['VALORE']*1000)) + '\"^^xsd:float .')\n",
        "        else:\n",
        "            pol_set.add(ChemicalDetection + ' :inQuantity \"' + str(float(row['VALORE'])) + '\"^^xsd:float .')\n",
        "\n",
        "        ## CHEMICALELEMENT:\n",
        "        # -uri: chemicalElement_ + chemical element name.\n",
        "        # -object properties: hasDetect, and isDetected\n",
        "\n",
        "        ChemicalElement = ':'+chemical_element\n",
        "        pol_set.add(ChemicalElement + ' a :ChemicalElement .')\n",
        "        pol_set.add(ChemicalDetection + ' :hasDetect ' + ChemicalElement + ' .')\n",
        "        pol_set.add(ChemicalElement + ' :isDetected ' + ChemicalDetection + ' .')\n",
        "\n",
        "        if len(row['AGENTE'].split('(')) > 1:\n",
        "            chemical_element_name = (((row['AGENTE'].split('(')[1]).replace(')','')).strip()).lower()\n",
        "\n",
        "            match chemical_element_name:\n",
        "                case 'benzene':\n",
        "                    pol_set.add(ChemicalDetection + ' :hasChemicalName \"Benzene\"^^xsd:string .')\n",
        "                case 'monossido di carbonio':\n",
        "                    pol_set.add(ChemicalDetection + ' :hasChemicalName \"Carbon monoxide\"^^xsd:string .')\n",
        "                case 'monossido di azoto':\n",
        "                    pol_set.add(ChemicalDetection + ' :hasChemicalName \"Nitrogen Monoxide\"^^xsd:string .')\n",
        "                case 'biossido di azoto':\n",
        "                    pol_set.add(ChemicalDetection + ' :hasChemicalName \"Nitrogen dioxide\"^^xsd:string .')\n",
        "                case 'ossidi di azoto':\n",
        "                    pol_set.add(ChemicalDetection + ' :hasChemicalName \"Nitrogen oxides\"^^xsd:string .')\n",
        "                case 'ozono':\n",
        "                    pol_set.add(ChemicalDetection + ' :hasChemicalName \"Ozone\"^^xsd:string .')\n",
        "                case _:\n",
        "                    # New element provided\n",
        "                    pol_set.add(ChemicalDetection + ' :hasChemicalName \"' + chemical_element_name + '\"^^xsd:string .')\n",
        "\n",
        "        startTime = startTime+':00:00'\n",
        "        endTime = endTime+':00:00'\n",
        "\n",
        "        pol_set.add(Period + ' :startTime \"' + str(date_obj.strftime('%Y-%m-%d')+'T'+startTime) + '\"^^xsd:dateTime .')\n",
        "        pol_set.add(Period + ' :endTime \"' + str(date_obj.strftime('%Y-%m-%d')+'T'+endTime) + '\"^^xsd:dateTime .')\n",
        "\n",
        "    pbar.update(len(chunk))\n",
        "\n",
        "    return pol_set"
      ]
    },
    {
      "cell_type": "code",
      "execution_count": 20,
      "metadata": {
        "id": "yKKpAEOJvkXc"
      },
      "outputs": [],
      "source": [
        "# Function to save a graph\n",
        "def save_graph(set : set, path : str):\n",
        "\n",
        "    with open(path, 'w', encoding=\"utf-8\") as file:\n",
        "\n",
        "        file.write('@prefix : <' + BTP + '> .\\n')\n",
        "        file.write('@prefix rdf: <http://www.w3.org/1999/02/22-rdf-syntax-ns#> .\\n')\n",
        "        file.write('@prefix rdfs: <http://www.w3.org/2000/01/rdf-schema#> .\\n')\n",
        "        file.write('@prefix xsd: <http://www.w3.org/2001/XMLSchema#> .\\n')\n",
        "        file.write('@prefix owl: <http://www.w3.org/2002/07/owl#> .\\n')\n",
        "\n",
        "        file.write('\\n')\n",
        "\n",
        "        for elem in set:\n",
        "            file.write(elem + '\\n')"
      ]
    },
    {
      "cell_type": "code",
      "execution_count": 21,
      "metadata": {
        "id": "2AKBbNI1_cFq"
      },
      "outputs": [],
      "source": [
        "def get_coil_by_id(coil_id : str) -> str:\n",
        "\n",
        "    return coil_dict.get(coil_id)"
      ]
    },
    {
      "cell_type": "code",
      "execution_count": 30,
      "metadata": {
        "id": "cc3JSytzvaTk"
      },
      "outputs": [],
      "source": [
        "## Datasets\n",
        "\n",
        "# Rilevazione flusso datasets\n",
        "rilevazione_flusso = []\n",
        "\n",
        "# ONLY FOR TEST\n",
        "# rilevazione_flusso.append('/content/drive/MyDrive/Colab Notebooks/Graph Database/datasets/test/rilevazione_flusso_veicoli_2019.csv')\n",
        "\n",
        "rilevazione_flusso.append('/content/drive/MyDrive/Colab Notebooks/Graph Database/datasets/rilevazione_flusso_veicoli_2019.csv')\n",
        "rilevazione_flusso.append('/content/drive/MyDrive/Colab Notebooks/Graph Database/datasets/rilevazione_flusso_veicoli_2020.csv')\n",
        "rilevazione_flusso.append('/content/drive/MyDrive/Colab Notebooks/Graph Database/datasets/rilevazione_flusso_veicoli_2021.csv')\n",
        "rilevazione_flusso.append('/content/drive/MyDrive/Colab Notebooks/Graph Database/datasets/rilevazione_flusso_veicoli_2022.csv')\n",
        "\n",
        "# Accuratezza spire datasets\n",
        "accuratezza_spire = []\n",
        "\n",
        "# ONLY FOR TEST\n",
        "# accuratezza_spire.append('/content/drive/MyDrive/Colab Notebooks/Graph Database/datasets/test/accuratezza_spire_2019.csv')\n",
        "\n",
        "accuratezza_spire.append('/content/drive/MyDrive/Colab Notebooks/Graph Database/datasets/accuratezza_spire_2019.csv')\n",
        "accuratezza_spire.append('/content/drive/MyDrive/Colab Notebooks/Graph Database/datasets/accuratezza_spire_2020.csv')\n",
        "accuratezza_spire.append('/content/drive/MyDrive/Colab Notebooks/Graph Database/datasets/accuratezza_spire_2021.csv')\n",
        "accuratezza_spire.append('/content/drive/MyDrive/Colab Notebooks/Graph Database/datasets/accuratezza_spire_2022.csv')\n",
        "\n",
        "# Centraline qualità datasets\n",
        "centraline = []\n",
        "\n",
        "# ONLY FOR TEST\n",
        "# centraline.append('/content/drive/MyDrive/Colab Notebooks/Graph Database/datasets/test/dati_centraline_2019.csv')\n",
        "\n",
        "centraline.append('/content/drive/MyDrive/Colab Notebooks/Graph Database/datasets/dati_centraline_2019.csv')\n",
        "centraline.append('/content/drive/MyDrive/Colab Notebooks/Graph Database/datasets/dati_centraline_2020.csv')\n",
        "centraline.append('/content/drive/MyDrive/Colab Notebooks/Graph Database/datasets/dati_centraline_2021.csv')\n",
        "centraline.append('/content/drive/MyDrive/Colab Notebooks/Graph Database/datasets/dati_centraline_2022.csv')\n",
        "\n",
        "# Save path\n",
        "save_path = '/content/drive/MyDrive/Colab Notebooks/Graph Database/rdf'"
      ]
    },
    {
      "cell_type": "code",
      "execution_count": 23,
      "metadata": {
        "colab": {
          "base_uri": "https://localhost:8080/"
        },
        "id": "P8xpGnlBv019",
        "outputId": "81112d95-bb78-45e6-906b-157a350b6339"
      },
      "outputs": [
        {
          "output_type": "stream",
          "name": "stdout",
          "text": [
            "--- populating coils ---\n"
          ]
        },
        {
          "output_type": "stream",
          "name": "stderr",
          "text": [
            "100%|██████████| 287747/287747 [04:13<00:00, 1134.63it/s]\n",
            "100%|██████████| 284787/284787 [04:27<00:00, 1063.46it/s]\n",
            "100%|██████████| 290531/290531 [04:49<00:00, 1004.22it/s]\n",
            "100%|██████████| 302872/302872 [05:41<00:00, 887.92it/s]\n"
          ]
        }
      ],
      "source": [
        "print('--- populating coils ---')\n",
        "\n",
        "coils_set = set()\n",
        "\n",
        "# Regular expression\n",
        "re_a_type_pol = re.compile(r' a :PollutionStation .')\n",
        "re_a_type_sm = re.compile(r' a :SimpleCoil .')\n",
        "re_hasID = re.compile(r' :hasID ')\n",
        "\n",
        "for namefile in rilevazione_flusso:\n",
        "\n",
        "    year_dataset = namefile.split('_')[3].split('.')[0]\n",
        "    piece = 0\n",
        "\n",
        "    total_rows = len(pd.read_csv(namefile))\n",
        "    pbar = tqdm(total=total_rows)\n",
        "\n",
        "    for chunk in pd.read_csv(namefile, sep=';', chunksize=chunksize):\n",
        "\n",
        "        # Manage NaN values\n",
        "        chunk = chunk.fillna('')\n",
        "\n",
        "        # Add the coils to the set\n",
        "        coils_set.update(coils_process_chunk(chunk))\n",
        "\n",
        "        # Memory monitor\n",
        "        if psutil.virtual_memory().percent > 85:\n",
        "            save_graph(coils_set, '/content/coils_populated_'+year_dataset+'_'+str(piece)+'.ttl')\n",
        "            # Reset the set\n",
        "            coils_set.clear()\n",
        "            piece += 1\n",
        "\n",
        "    save_graph(coils_set, '/content/coils_populated_'+year_dataset+'_'+str(piece)+'.ttl')\n",
        "\n",
        "    coils_set.clear()\n",
        "\n",
        "    pbar.close()"
      ]
    },
    {
      "cell_type": "code",
      "execution_count": 24,
      "metadata": {
        "id": "As2AF1eCwUrG"
      },
      "outputs": [],
      "source": [
        "# Free memory\n",
        "del coils_set"
      ]
    },
    {
      "cell_type": "code",
      "execution_count": 25,
      "metadata": {
        "id": "iEjxAUd2Muhc",
        "colab": {
          "base_uri": "https://localhost:8080/"
        },
        "outputId": "91911eeb-e191-4295-a02b-7bf2d89341a8"
      },
      "outputs": [
        {
          "output_type": "stream",
          "name": "stdout",
          "text": [
            "--- populating coils ---\n"
          ]
        },
        {
          "output_type": "stream",
          "name": "stderr",
          "text": [
            "100%|██████████| 287747/287747 [14:58<00:00, 320.37it/s]\n",
            "100%|██████████| 284787/284787 [15:56<00:00, 297.82it/s]\n",
            "100%|██████████| 290531/290531 [16:01<00:00, 302.14it/s]\n",
            "100%|██████████| 302872/302872 [15:36<00:00, 323.55it/s]\n"
          ]
        }
      ],
      "source": [
        "print('--- populating coils ---')\n",
        "\n",
        "vehicle_count_set = set()\n",
        "\n",
        "for namefile in rilevazione_flusso:\n",
        "\n",
        "    year_dataset = namefile.split('_')[3].split('.')[0]\n",
        "    piece = 0\n",
        "\n",
        "    total_rows = len(pd.read_csv(namefile))\n",
        "    pbar = tqdm(total=total_rows)\n",
        "\n",
        "    for chunk in pd.read_csv(namefile, sep=';', chunksize=chunksize):\n",
        "\n",
        "        # Manage NaN values\n",
        "        chunk = chunk.fillna('')\n",
        "\n",
        "        # Add the coils to the set\n",
        "        vehicle_count_set.update(vehicle_count_process_chunk(chunk))\n",
        "\n",
        "        # Memory monitor\n",
        "        if psutil.virtual_memory().percent > 85:\n",
        "            save_graph(vehicle_count_set, '/content/vehicle_count_populated_'+year_dataset+'_'+str(piece)+'.ttl')\n",
        "            # Reset the set\n",
        "            vehicle_count_set.clear()\n",
        "            piece += 1\n",
        "\n",
        "    save_graph(vehicle_count_set, '/content/vehicle_count_populated_'+year_dataset+'_'+str(piece)+'.ttl')\n",
        "    vehicle_count_set.clear()\n",
        "\n",
        "    pbar.close()"
      ]
    },
    {
      "cell_type": "code",
      "execution_count": 26,
      "metadata": {
        "id": "gulLdqXsM_xm"
      },
      "outputs": [],
      "source": [
        "# Free memory\n",
        "del vehicle_count_set"
      ]
    },
    {
      "cell_type": "code",
      "execution_count": 27,
      "metadata": {
        "id": "Pdf4EARn_p4U",
        "colab": {
          "base_uri": "https://localhost:8080/"
        },
        "outputId": "d4651d56-8428-4c72-f1ed-124452a9c382"
      },
      "outputs": [
        {
          "metadata": {
            "tags": null
          },
          "name": "stdout",
          "output_type": "stream",
          "text": [
            "--- populating vehicle accuracy ---\n"
          ]
        },
        {
          "output_type": "stream",
          "name": "stderr",
          "text": [
            "100%|██████████| 286974/286974 [05:59<00:00, 797.23it/s]\n",
            "100%|██████████| 292845/292845 [05:48<00:00, 841.02it/s]\n",
            "100%|██████████| 299130/299130 [05:53<00:00, 845.77it/s]\n",
            "100%|██████████| 316458/316458 [06:29<00:00, 812.83it/s]\n"
          ]
        }
      ],
      "source": [
        "print('--- populating vehicle accuracy ---')\n",
        "\n",
        "acc_set = set()\n",
        "\n",
        "for namefile in accuratezza_spire:\n",
        "\n",
        "    year_dataset = namefile.split('_')[2].split('.')[0]\n",
        "    piece = 0\n",
        "\n",
        "    total_rows = len(pd.read_csv(namefile))\n",
        "    pbar = tqdm(total=total_rows)\n",
        "\n",
        "    for chunk in pd.read_csv(namefile, sep=';', chunksize=chunksize):\n",
        "\n",
        "        # Manage NaN values\n",
        "        chunk = chunk.fillna('')\n",
        "\n",
        "        # Add the coils to the set\n",
        "        acc_set.update(vehicle_accuracy_process_chunk(chunk))\n",
        "\n",
        "        # Memory monitor\n",
        "        if psutil.virtual_memory().percent > 85:\n",
        "            save_graph(acc_set, '/content/vehicle_accuracy_populated_'+year_dataset+'_'+str(piece)+'.ttl')\n",
        "            # Reset the set\n",
        "            acc_set.clear()\n",
        "            piece += 1\n",
        "\n",
        "    save_graph(acc_set, '/content/vehicle_accuracy_populated_'+year_dataset+'_'+str(piece)+'.ttl')\n",
        "    acc_set.clear()\n",
        "\n",
        "    pbar.close()"
      ]
    },
    {
      "cell_type": "code",
      "execution_count": 28,
      "metadata": {
        "id": "MwKPMCZB_q41"
      },
      "outputs": [],
      "source": [
        "# Free memory\n",
        "del acc_set, coil_dict"
      ]
    },
    {
      "cell_type": "code",
      "execution_count": 31,
      "metadata": {
        "id": "uNf5npVF_rM8",
        "colab": {
          "base_uri": "https://localhost:8080/"
        },
        "outputId": "02f72c84-f7c2-44cd-af95-7572d8f2c0b7"
      },
      "outputs": [
        {
          "output_type": "stream",
          "name": "stdout",
          "text": [
            "--- populating pollution data ---\n"
          ]
        },
        {
          "output_type": "stream",
          "name": "stderr",
          "text": [
            "100%|██████████| 76989/76989 [00:18<00:00, 4225.93it/s]\n",
            "100%|██████████| 77741/77741 [00:18<00:00, 4186.04it/s]\n",
            "100%|██████████| 79033/79033 [00:19<00:00, 4100.52it/s]\n",
            "100%|██████████| 79662/79662 [00:20<00:00, 3833.25it/s]\n"
          ]
        }
      ],
      "source": [
        "print('--- populating pollution data ---')\n",
        "\n",
        "pollution_set = set()\n",
        "\n",
        "for namefile in centraline:\n",
        "\n",
        "    year_dataset = namefile.split('_')[2].split('.')[0]\n",
        "    piece = 0\n",
        "\n",
        "    total_rows = len(pd.read_csv(namefile))\n",
        "    pbar = tqdm(total=total_rows)\n",
        "\n",
        "    for chunk in pd.read_csv(namefile, sep=';', chunksize=chunksize):\n",
        "\n",
        "        # Manage NaN values\n",
        "        chunk = chunk.fillna('')\n",
        "\n",
        "        # Add the coils to the set\n",
        "        pollution_set.update(pollution_process_chunk(chunk))\n",
        "\n",
        "        # Memory monitor\n",
        "        if psutil.virtual_memory().percent > 85:\n",
        "            save_graph(pollution_set, '/content/pollution_populated_'+year_dataset+'_'+str(piece)+'.ttl')\n",
        "            # Reset the set\n",
        "            pollution_set.clear()\n",
        "            piece += 1\n",
        "\n",
        "    save_graph(pollution_set, '/content/pollution_populated_'+year_dataset+'_'+str(piece)+'.ttl')\n",
        "    pollution_set.clear()\n",
        "\n",
        "    pbar.close()"
      ]
    },
    {
      "cell_type": "code",
      "execution_count": null,
      "metadata": {
        "id": "OcS0-7v6AFWw"
      },
      "outputs": [],
      "source": [
        "# Free memory\n",
        "del pollution_set"
      ]
    }
  ],
  "metadata": {
    "colab": {
      "provenance": []
    },
    "kernelspec": {
      "display_name": "Python 3",
      "name": "python3"
    },
    "language_info": {
      "name": "python"
    }
  },
  "nbformat": 4,
  "nbformat_minor": 0
}